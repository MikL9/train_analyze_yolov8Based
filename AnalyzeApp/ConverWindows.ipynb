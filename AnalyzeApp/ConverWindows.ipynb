{
 "cells": [
  {
   "cell_type": "code",
   "execution_count": 1,
   "metadata": {
    "collapsed": true,
    "ExecuteTime": {
     "end_time": "2023-05-19T13:47:37.104093100Z",
     "start_time": "2023-05-19T13:47:35.738178800Z"
    }
   },
   "outputs": [],
   "source": [
    "import subprocess\n",
    "\n",
    "# Check if pyinstaller is already installed\n",
    "try:\n",
    "    result = subprocess.check_output(['pip', 'show', 'pyinstaller'])\n",
    "    is_installed = True\n",
    "except subprocess.CalledProcessError:\n",
    "    is_installed = False\n",
    "\n",
    "# Install pyinstaller if not already installed\n",
    "if not is_installed:\n",
    "    subprocess.check_call(['pip', 'install', 'pyinstaller'])"
   ]
  },
  {
   "cell_type": "code",
   "execution_count": 2,
   "outputs": [
    {
     "name": "stderr",
     "output_type": "stream",
     "text": [
      "418 INFO: PyInstaller: 5.11.0\n",
      "418 INFO: Python: 3.10.11\n",
      "428 INFO: Platform: Windows-10-10.0.22000-SP0\n",
      "429 INFO: wrote C:\\Users\\1070PC\\PycharmProjects\\ultralytics\\ProjectPR\\AnalyzeApp\\getDatasetInfo.spec\n",
      "430 INFO: UPX is not available.\n",
      "432 INFO: Extending PYTHONPATH with paths\n",
      "['C:\\\\Users\\\\1070PC\\\\PycharmProjects\\\\ultralytics\\\\ProjectPR\\\\AnalyzeApp']\n",
      "1061 INFO: checking Analysis\n",
      "1061 INFO: Building Analysis because Analysis-00.toc is non existent\n",
      "1061 INFO: Initializing module dependency graph...\n",
      "1062 INFO: Caching module graph hooks...\n",
      "1077 INFO: Analyzing base_library.zip ...\n",
      "3058 INFO: Loading module hook 'hook-heapq.py' from 'C:\\\\Users\\\\1070PC\\\\AppData\\\\Local\\\\Programs\\\\Python\\\\Python310\\\\lib\\\\site-packages\\\\PyInstaller\\\\hooks'...\n",
      "3173 INFO: Loading module hook 'hook-encodings.py' from 'C:\\\\Users\\\\1070PC\\\\AppData\\\\Local\\\\Programs\\\\Python\\\\Python310\\\\lib\\\\site-packages\\\\PyInstaller\\\\hooks'...\n",
      "4672 INFO: Loading module hook 'hook-pickle.py' from 'C:\\\\Users\\\\1070PC\\\\AppData\\\\Local\\\\Programs\\\\Python\\\\Python310\\\\lib\\\\site-packages\\\\PyInstaller\\\\hooks'...\n",
      "6054 INFO: Caching module dependency graph...\n",
      "6184 INFO: running Analysis Analysis-00.toc\n",
      "6198 INFO: Adding Microsoft.Windows.Common-Controls to dependent assemblies of final executable\n",
      "  required by C:\\Users\\1070PC\\AppData\\Local\\Programs\\Python\\Python310\\python.exe\n",
      "6348 INFO: Analyzing C:\\Users\\1070PC\\PycharmProjects\\ultralytics\\ProjectPR\\AnalyzeApp\\getDatasetInfo.py\n",
      "6508 INFO: Processing module hooks...\n",
      "6512 INFO: Loading module hook 'hook-_tkinter.py' from 'C:\\\\Users\\\\1070PC\\\\AppData\\\\Local\\\\Programs\\\\Python\\\\Python310\\\\lib\\\\site-packages\\\\PyInstaller\\\\hooks'...\n",
      "6513 INFO: checking Tree\n",
      "6513 INFO: Building Tree because Tree-00.toc is non existent\n",
      "6513 INFO: Building Tree Tree-00.toc\n",
      "6560 INFO: checking Tree\n",
      "6560 INFO: Building Tree because Tree-01.toc is non existent\n",
      "6560 INFO: Building Tree Tree-01.toc\n",
      "6566 INFO: checking Tree\n",
      "6566 INFO: Building Tree because Tree-02.toc is non existent\n",
      "6566 INFO: Building Tree Tree-02.toc\n",
      "6587 INFO: Looking for ctypes DLLs\n",
      "6588 INFO: Analyzing run-time hooks ...\n",
      "6590 INFO: Including run-time hook 'C:\\\\Users\\\\1070PC\\\\AppData\\\\Local\\\\Programs\\\\Python\\\\Python310\\\\lib\\\\site-packages\\\\PyInstaller\\\\hooks\\\\rthooks\\\\pyi_rth_inspect.py'\n",
      "6591 INFO: Including run-time hook 'C:\\\\Users\\\\1070PC\\\\AppData\\\\Local\\\\Programs\\\\Python\\\\Python310\\\\lib\\\\site-packages\\\\PyInstaller\\\\hooks\\\\rthooks\\\\pyi_rth__tkinter.py'\n",
      "6621 INFO: Looking for dynamic libraries\n",
      "421 INFO: Extra DLL search directories (AddDllDirectory): []\n",
      "422 INFO: Extra DLL search directories (PATH): ['C:\\\\Users\\\\1070PC\\\\AppData\\\\Local\\\\Programs\\\\Python\\\\Python310\\\\Scripts', 'C:\\\\Program Files\\\\Microsoft\\\\jdk-11.0.16.101-hotspot\\\\bin', 'C:\\\\Program Files\\\\NVIDIA GPU Computing Toolkit\\\\CUDA\\\\v12.1\\\\bin', 'C:\\\\Program Files\\\\NVIDIA GPU Computing Toolkit\\\\CUDA\\\\v12.1\\\\libnvvp', 'C:\\\\WINDOWS\\\\system32', 'C:\\\\WINDOWS', 'C:\\\\WINDOWS\\\\System32\\\\Wbem', 'C:\\\\WINDOWS\\\\System32\\\\WindowsPowerShell\\\\v1.0\\\\', 'C:\\\\WINDOWS\\\\System32\\\\OpenSSH\\\\', 'C:\\\\Program Files\\\\Git\\\\cmd', 'C:\\\\Program Files (x86)\\\\NVIDIA Corporation\\\\PhysX\\\\Common', 'C:\\\\Program Files\\\\Go\\\\bin', 'C:\\\\Users\\\\1070PC\\\\AppData\\\\Local\\\\Programs\\\\Python\\\\Python310', 'C:\\\\Program Files\\\\NVIDIA Corporation\\\\Nsight Compute 2023.1.0\\\\', 'C:\\\\Program Files\\\\NVIDIA Corporation\\\\NVIDIA NvDLISR', 'C:\\\\Program Files\\\\nodejs\\\\', 'C:\\\\Users\\\\1070PC\\\\AppData\\\\Local\\\\Microsoft\\\\WindowsApps', 'C:\\\\Program Files\\\\JetBrains\\\\GoLand 2023.1.1\\\\bin', 'C:\\\\Program Files\\\\JetBrains\\\\PhpStorm 2023.1.1\\\\bin', 'C:\\\\Program Files\\\\JetBrains\\\\PyCharm 2023.1.1\\\\bin', 'C:\\\\Program Files\\\\JetBrains\\\\DataSpell 2023.1\\\\bin', 'C:\\\\Users\\\\1070PC\\\\go\\\\bin', 'C:\\\\Users\\\\1070PC\\\\AppData\\\\Local\\\\Programs\\\\Python\\\\Python310', 'C:\\\\Users\\\\1070PC\\\\AppData\\\\Roaming\\\\npm']\n",
      "7578 INFO: Looking for eggs\n",
      "7589 INFO: Using Python library C:\\Users\\1070PC\\AppData\\Local\\Programs\\Python\\Python310\\python310.dll\n",
      "7589 INFO: Found binding redirects: \n",
      "[]\n",
      "7590 INFO: Warnings written to C:\\Users\\1070PC\\PycharmProjects\\ultralytics\\ProjectPR\\AnalyzeApp\\build\\getDatasetInfo\\warn-getDatasetInfo.txt\n",
      "7612 INFO: Graph cross-reference written to C:\\Users\\1070PC\\PycharmProjects\\ultralytics\\ProjectPR\\AnalyzeApp\\build\\getDatasetInfo\\xref-getDatasetInfo.html\n",
      "7647 INFO: checking PYZ\n",
      "7647 INFO: Building PYZ because PYZ-00.toc is non existent\n",
      "7647 INFO: Building PYZ (ZlibArchive) C:\\Users\\1070PC\\PycharmProjects\\ultralytics\\ProjectPR\\AnalyzeApp\\build\\getDatasetInfo\\PYZ-00.pyz\n",
      "7959 INFO: Building PYZ (ZlibArchive) C:\\Users\\1070PC\\PycharmProjects\\ultralytics\\ProjectPR\\AnalyzeApp\\build\\getDatasetInfo\\PYZ-00.pyz completed successfully.\n",
      "7979 INFO: checking PKG\n",
      "7979 INFO: Building PKG because PKG-00.toc is non existent\n",
      "7979 INFO: Building PKG (CArchive) getDatasetInfo.pkg\n",
      "9997 INFO: Building PKG (CArchive) getDatasetInfo.pkg completed successfully.\n",
      "10018 INFO: Bootloader C:\\Users\\1070PC\\AppData\\Local\\Programs\\Python\\Python310\\lib\\site-packages\\PyInstaller\\bootloader\\Windows-64bit-intel\\run.exe\n",
      "10018 INFO: checking EXE\n",
      "10018 INFO: Building EXE because EXE-00.toc is non existent\n",
      "10018 INFO: Building EXE from EXE-00.toc\n",
      "10018 INFO: Copying bootloader EXE to C:\\Users\\1070PC\\PycharmProjects\\ultralytics\\ProjectPR\\AnalyzeApp\\dist\\getDatasetInfo.exe.notanexecutable\n",
      "10022 INFO: Copying icon to EXE\n",
      "10022 INFO: Copying icons from ['C:\\\\Users\\\\1070PC\\\\AppData\\\\Local\\\\Programs\\\\Python\\\\Python310\\\\lib\\\\site-packages\\\\PyInstaller\\\\bootloader\\\\images\\\\icon-console.ico']\n",
      "10023 INFO: Writing RT_GROUP_ICON 0 resource with 104 bytes\n",
      "10023 INFO: Writing RT_ICON 1 resource with 3752 bytes\n",
      "10023 INFO: Writing RT_ICON 2 resource with 2216 bytes\n",
      "10023 INFO: Writing RT_ICON 3 resource with 1384 bytes\n",
      "10023 INFO: Writing RT_ICON 4 resource with 37019 bytes\n",
      "10023 INFO: Writing RT_ICON 5 resource with 9640 bytes\n",
      "10023 INFO: Writing RT_ICON 6 resource with 4264 bytes\n",
      "10023 INFO: Writing RT_ICON 7 resource with 1128 bytes\n",
      "10025 INFO: Copying 0 resources to EXE\n",
      "10025 INFO: Embedding manifest in EXE\n",
      "10026 INFO: Updating manifest in C:\\Users\\1070PC\\PycharmProjects\\ultralytics\\ProjectPR\\AnalyzeApp\\dist\\getDatasetInfo.exe.notanexecutable\n",
      "10026 INFO: Updating resource type 24 name 1 language 0\n",
      "10028 INFO: Appending PKG archive to EXE\n",
      "10034 INFO: Fixing EXE headers\n",
      "10135 INFO: Building EXE from EXE-00.toc completed successfully.\n"
     ]
    }
   ],
   "source": [
    "!pyinstaller --onefile getDatasetInfo.py"
   ],
   "metadata": {
    "collapsed": false,
    "ExecuteTime": {
     "end_time": "2023-05-19T13:47:47.626084300Z",
     "start_time": "2023-05-19T13:47:37.106087600Z"
    }
   }
  }
 ],
 "metadata": {
  "kernelspec": {
   "display_name": "Python 3",
   "language": "python",
   "name": "python3"
  },
  "language_info": {
   "codemirror_mode": {
    "name": "ipython",
    "version": 2
   },
   "file_extension": ".py",
   "mimetype": "text/x-python",
   "name": "python",
   "nbconvert_exporter": "python",
   "pygments_lexer": "ipython2",
   "version": "2.7.6"
  }
 },
 "nbformat": 4,
 "nbformat_minor": 0
}
